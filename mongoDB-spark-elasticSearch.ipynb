{
 "cells": [
  {
   "cell_type": "code",
   "execution_count": 1,
   "id": "6770f5db-d4ad-42ce-a9fa-7dd15285ab51",
   "metadata": {},
   "outputs": [],
   "source": [
    "# ┌── 셀 1: SparkSession 생성 (한 번만 실행)\n",
    "from pyspark.sql import SparkSession\n",
    "\n",
    "spark = (SparkSession.builder\n",
    "         .appName(\"MongoDB-ES-Demo\")\n",
    "         .master(\"local[1]\")\n",
    "         .config(\"spark.ui.enabled\", \"false\")\n",
    "         .getOrCreate())\n",
    "spark.sparkContext.setLogLevel(\"WARN\")"
   ]
  },
  {
   "cell_type": "code",
   "execution_count": 2,
   "id": "0787d5ba-3b02-4179-8b6b-2c0b08922af7",
   "metadata": {},
   "outputs": [],
   "source": [
    "# ┌── 셀 2: PyMongo 로 MongoDB에서 문서 읽기\n",
    "from pymongo import MongoClient\n",
    "import json\n",
    "import os\n",
    "\n",
    "# 1) MongoDB 에서 데이터 읽기\n",
    "client = MongoClient(\"mongodb://127.0.0.1:27017\", serverSelectionTimeoutMS=2000)\n",
    "docs = list(client.demo.users.find())\n",
    "for d in docs: d.pop(\"_id\", None)\n",
    "\n",
    "# 2) JSON Lines 파일로 저장 (한 줄에 한 문서씩)\n",
    "os.makedirs(\"data\", exist_ok=True)\n",
    "with open(\"data/users.jsonl\", \"w\", encoding=\"utf-8\") as f:\n",
    "    for d in docs:\n",
    "        f.write(json.dumps(d, ensure_ascii=False) + \"\\n\")"
   ]
  },
  {
   "cell_type": "code",
   "execution_count": 3,
   "id": "d6aac3c4-9eb1-4ce5-a7ae-8c746a140507",
   "metadata": {},
   "outputs": [
    {
     "name": "stdout",
     "output_type": "stream",
     "text": [
      "+---+-----+-------+\n",
      "|age|name |user_id|\n",
      "+---+-----+-------+\n",
      "|30 |Alice|U1     |\n",
      "|25 |Bob  |U2     |\n",
      "|28 |Carol|U3     |\n",
      "+---+-----+-------+\n",
      "\n"
     ]
    }
   ],
   "source": [
    "# ┌── 셀 3: spark.read.json 으로 파일에서 바로 DataFrame 생성\n",
    "mongo_df = spark.read.json(\"data/users.jsonl\")\n",
    "mongo_df.show(truncate=False)"
   ]
  },
  {
   "cell_type": "code",
   "execution_count": 9,
   "id": "f19fd4e6-b299-4d86-a8e6-1fc249805e41",
   "metadata": {
    "scrolled": true
   },
   "outputs": [
    {
     "name": "stdout",
     "output_type": "stream",
     "text": [
      "[{'user_id': 'U1', 'name': 'Alice', 'age': 30}]\n"
     ]
    }
   ],
   "source": [
    "# ┌── 셀 4: elasticsearch-py 로 ES에 색인 & 재조회\n",
    "from elasticsearch import Elasticsearch, helpers\n",
    "\n",
    "# 1) bulk 색인\n",
    "es = Elasticsearch(\"http://127.0.0.1:9200\")\n",
    "actions = [\n",
    "    {\"_index\": \"users_index\", \"_id\": d[\"user_id\"], \"_source\": d}\n",
    "    for d in docs\n",
    "]\n",
    "helpers.bulk(es, actions)\n",
    "\n",
    "# 2) 색인 확인\n",
    "res = es.search(\n",
    "    index=\"users_index\",\n",
    "    query={    \"range\": { \"age\": { \"gte\": 29, \"lte\": 30 } } }\n",
    ")\n",
    "print([hit[\"_source\"] for hit in res[\"hits\"][\"hits\"]])"
   ]
  },
  {
   "cell_type": "code",
   "execution_count": 5,
   "id": "1c95d745-58f1-45c6-a4f1-e2c911f2753e",
   "metadata": {},
   "outputs": [],
   "source": [
    "# ┌── 셀 5: 세션 종료\n",
    "spark.stop()"
   ]
  },
  {
   "cell_type": "code",
   "execution_count": null,
   "id": "edea7372-af1b-4d2a-8599-53349fd71a0f",
   "metadata": {},
   "outputs": [],
   "source": []
  }
 ],
 "metadata": {
  "kernelspec": {
   "display_name": "Python 3 (ipykernel)",
   "language": "python",
   "name": "python3"
  },
  "language_info": {
   "codemirror_mode": {
    "name": "ipython",
    "version": 3
   },
   "file_extension": ".py",
   "mimetype": "text/x-python",
   "name": "python",
   "nbconvert_exporter": "python",
   "pygments_lexer": "ipython3",
   "version": "3.12.2"
  }
 },
 "nbformat": 4,
 "nbformat_minor": 5
}
